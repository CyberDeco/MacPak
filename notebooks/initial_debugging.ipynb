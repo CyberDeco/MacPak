{
 "cells": [
  {
   "cell_type": "code",
   "execution_count": null,
   "id": "82db6cbd-1795-468a-899b-261ebb248355",
   "metadata": {},
   "outputs": [],
   "source": [
    "// :dep tells evcxr to load a crate\n",
    ":dep MacPak = { path = \"../MacPak\" }\n",
    ":dep MacLarian = { path = \"../MacLarian\" }\n",
    "\n",
    "// Import the public API from MacPak\n",
    "use MacPak::pak::PakReader;"
   ]
  }
 ],
 "metadata": {
  "kernelspec": {
   "display_name": "Rust",
   "language": "rust",
   "name": "rust"
  },
  "language_info": {
   "codemirror_mode": "rust",
   "file_extension": ".rs",
   "mimetype": "text/rust",
   "name": "Rust",
   "pygment_lexer": "rust",
   "version": ""
  }
 },
 "nbformat": 4,
 "nbformat_minor": 5
}
